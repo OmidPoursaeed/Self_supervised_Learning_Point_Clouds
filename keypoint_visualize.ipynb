{
 "cells": [
  {
   "cell_type": "code",
   "execution_count": 1,
   "metadata": {},
   "outputs": [],
   "source": [
    "import numpy as np\n",
    "import IPython.display\n",
    "from utils import pc_util\n",
    "import PIL\n",
    "from PIL import Image\n",
    "import io\n",
    "import skimage.io\n",
    "from scipy.io import loadmat"
   ]
  },
  {
   "cell_type": "code",
   "execution_count": 2,
   "metadata": {},
   "outputs": [],
   "source": [
    "import data_loader"
   ]
  },
  {
   "cell_type": "code",
   "execution_count": 3,
   "metadata": {},
   "outputs": [
    {
     "name": "stdout",
     "output_type": "stream",
     "text": [
      "Dataset name: keypoint\n",
      "X_train: (846, 2048, 3)\n",
      "X_test: (212, 2048, 3)\n",
      "y_train: (846, 2048)\n",
      "y_test: (212, 2048)\n"
     ]
    }
   ],
   "source": [
    "X_train, X_test, y_train, y_test = data_loader.get_pointcloud('keypoint')"
   ]
  },
  {
   "cell_type": "code",
   "execution_count": 4,
   "metadata": {},
   "outputs": [],
   "source": [
    "from pc_util import *\n",
    "def point_cloud_three_views_with_keypoint(points, keypoints):\n",
    "    print(points.shape)\n",
    "    print(keypoints.shape)\n",
    "    img1 = draw_point_cloud(points, normalize=False, zrot=110/180.0*np.pi, xrot=45/180.0*np.pi, yrot=0/180.0*np.pi)\n",
    "    img2 = draw_point_cloud(points, normalize=False, zrot=70/180.0*np.pi, xrot=135/180.0*np.pi, yrot=0/180.0*np.pi)\n",
    "    img3 = draw_point_cloud(points, normalize=False, zrot=180.0/180.0*np.pi, xrot=90/180.0*np.pi, yrot=0/180.0*np.pi)\n",
    "    image_large = np.concatenate([img1, img2, img3], 1)\n",
    "\n",
    "    keypts_img1 = draw_point_cloud(points[keypoints==1], normalize=False, zrot=110/180.0*np.pi, xrot=45/180.0*np.pi, yrot=0/180.0*np.pi)\n",
    "    keypts_img2 = draw_point_cloud(points[keypoints==1], normalize=False, zrot=70/180.0*np.pi, xrot=135/180.0*np.pi, yrot=0/180.0*np.pi)\n",
    "    keypts_img3 = draw_point_cloud(points[keypoints==1], normalize=False, zrot=180.0/180.0*np.pi, xrot=90/180.0*np.pi, yrot=0/180.0*np.pi)\n",
    "    keypts_image_large = np.concatenate([keypts_img1, keypts_img2, keypts_img3], 1)\n",
    "\n",
    "    image = np.stack([image_large, image_large, image_large], axis=-1)\n",
    "    image[:,:,0] += keypts_image_large\n",
    "    np.clip(image, 0, 1, image)\n",
    "\n",
    "    return image"
   ]
  },
  {
   "cell_type": "code",
   "execution_count": 5,
   "metadata": {},
   "outputs": [
    {
     "name": "stdout",
     "output_type": "stream",
     "text": [
      "(2048, 3)\n",
      "(2048,)\n"
     ]
    },
    {
     "data": {
      "text/plain": [
       "<matplotlib.image.AxesImage at 0x7f287ed25f98>"
      ]
     },
     "execution_count": 5,
     "metadata": {},
     "output_type": "execute_result"
    },
    {
     "data": {
      "image/png": "[encoded data removed]",
      "text/plain": [
       "<Figure size 432x288 with 1 Axes>"
      ]
     },
     "metadata": {
      "needs_background": "light"
     },
     "output_type": "display_data"
    }
   ],
   "source": [
    "idx = np.random.randint(X_train.shape[0])\n",
    "img = point_cloud_three_views_with_keypoint(X_train[idx], y_train[idx])\n",
    "skimage.io.imshow(img)"
   ]
  },
  {
   "cell_type": "code",
   "execution_count": null,
   "metadata": {},
   "outputs": [],
   "source": []
  }
 ],
 "metadata": {
  "kernelspec": {
   "display_name": "Python 3",
   "language": "python",
   "name": "python3"
  },
  "language_info": {
   "codemirror_mode": {
    "name": "ipython",
    "version": 3
   },
   "file_extension": ".py",
   "mimetype": "text/x-python",
   "name": "python",
   "nbconvert_exporter": "python",
   "pygments_lexer": "ipython3",
   "version": "3.6.9"
  }
 },
 "nbformat": 4,
 "nbformat_minor": 4
}
